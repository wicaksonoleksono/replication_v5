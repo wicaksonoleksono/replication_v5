{
 "cells": [
  {
   "cell_type": "code",
   "execution_count": null,
   "metadata": {},
   "outputs": [
    {
     "name": "stdout",
     "output_type": "stream",
     "text": [
      "Configuration loaded: {'dataset': 'all', 'data_home': 'dataset', 'out_dir': 'dataset/preproceessed', 'dynahate': {'tokenizer_type': 'bert-base-uncased', 'augmentation': None}, 'ihc': {'tokenizer_type': 'bert-base-uncased', 'augmentation': 'imp'}, 'sbic': {'tokenizer_type': 'bert-base-uncased', 'augmentation': 'imp'}}\n",
      "[INFO] Processing DynaHate data with data_home=dataset, out_dir=dataset/preproceessed\n",
      "      Using tokenizer=bert-base-uncased, augmentation=None\n",
      "Tokenizing train data...\n"
     ]
    },
    {
     "name": "stderr",
     "output_type": "stream",
     "text": [
      "Token indices sequence length is longer than the specified maximum sequence length for this model (516 > 512). Running this sequence through the model will result in indexing errors\n"
     ]
    },
    {
     "name": "stdout",
     "output_type": "stream",
     "text": [
      "Tokenizing dev data...\n",
      "Tokenizing test data...\n",
      "Processing complete. Data saved to dataset/preproceessed/dynahate_preprocessed_bert.pkl\n",
      "[INFO] Finished DynaHate.\n",
      "[INFO] Processing IHC data with data_home=dataset, out_dir=dataset/preproceessed\n",
      "      Using tokenizer=bert-base-uncased, augmentation=imp\n",
      "Processing train data...\n",
      "Processing valid data...\n",
      "Processing test data...\n",
      "Processing complete. Data saved to dataset/preproceessed/ihc_imp_preprocessed_bert.pkl\n",
      "[INFO] Finished IHC.\n",
      "[INFO] Processing SBIC data with data_home=dataset, out_dir=dataset/preproceessed\n",
      "      Using tokenizer=bert-base-uncased, augmentation=imp\n",
      "Aggregating training data...\n"
     ]
    },
    {
     "name": "stderr",
     "output_type": "stream",
     "text": [
      "Aggregating trn data: 100%|██████████| 112900/112900 [03:09<00:00, 595.44it/s]\n"
     ]
    },
    {
     "name": "stdout",
     "output_type": "stream",
     "text": [
      "Aggregating dev data...\n"
     ]
    },
    {
     "name": "stderr",
     "output_type": "stream",
     "text": [
      "Aggregating dev data: 100%|██████████| 16738/16738 [00:04<00:00, 3926.51it/s]\n"
     ]
    },
    {
     "name": "stdout",
     "output_type": "stream",
     "text": [
      "Aggregating test data...\n"
     ]
    },
    {
     "name": "stderr",
     "output_type": "stream",
     "text": [
      "Aggregating tst data: 100%|██████████| 17501/17501 [00:04<00:00, 3849.76it/s]\n"
     ]
    },
    {
     "name": "stdout",
     "output_type": "stream",
     "text": [
      "Augmenting training data...\n",
      "Transforming implied statements for training data...\n"
     ]
    },
    {
     "name": "stderr",
     "output_type": "stream",
     "text": [
      "Transforming implied statements for trn data: 100%|██████████| 35504/35504 [00:48<00:00, 735.92it/s] \n"
     ]
    },
    {
     "name": "stdout",
     "output_type": "stream",
     "text": [
      "---------------------------------------------------\n",
      "Split: trn\n",
      "offensive_na_whotarget: 0\n",
      "Group attack but no implied statement: 3\n",
      "Personal attacks: 6337\n",
      "Group offensive: 12023\n",
      "Not offensive: 17141\n",
      "---------------------------------------------------\n",
      "Integration complete. Files saved to: dataset/preproceessed/sbic_pure\n",
      "Processing train data...\n",
      "Tokenizing data (with augmentation)...\n",
      "Processing dev data...\n",
      "Tokenizing data...\n",
      "Processing test data...\n",
      "Tokenizing data...\n",
      "Processing complete. Data saved to dataset/preproceessed/sbic_imp_preprocessed_bert.pkl\n",
      "[INFO] Finished SBIC.\n"
     ]
    }
   ],
   "source": [
    "# import preprocess\n",
    "# preprocess.main([\"--config\", \"./config_preprocess.yaml\"])\n",
    "\n"
   ]
  },
  {
   "cell_type": "code",
   "execution_count": null,
   "metadata": {},
   "outputs": [
    {
     "data": {
      "text/plain": [
       "Traceback (most recent call last):\n",
       "  File \"/home/wicaksonolxn/.vscode/extensions/ms-python.python-2025.2.0-linux-x64/python_files/python_server.py\", line 133, in exec_user_input\n",
       "    retval = callable_(user_input, user_globals)\n",
       "  File \"<string>\", line 1, in <module>\n",
       "ModuleNotFoundError: No module named 'main'\n",
       "\n"
      ]
     },
     "metadata": {},
     "output_type": "display_data"
    }
   ],
   "source": [
    "import main\n",
    "main.main([\"--config\", \"./config_contrastive.yaml\"])"
   ]
  },
  {
   "cell_type": "code",
   "execution_count": null,
   "metadata": {},
   "outputs": [],
   "source": []
  },
  {
   "cell_type": "code",
   "execution_count": null,
   "metadata": {},
   "outputs": [],
   "source": []
  }
 ],
 "metadata": {
  "kernelspec": {
   "display_name": "torch_env",
   "language": "python",
   "name": "python3"
  },
  "language_info": {
   "codemirror_mode": {
    "name": "ipython",
    "version": 3
   },
   "file_extension": ".py",
   "mimetype": "text/x-python",
   "name": "python",
   "nbconvert_exporter": "python",
   "pygments_lexer": "ipython3",
   "version": "3.10.16"
  }
 },
 "nbformat": 4,
 "nbformat_minor": 2
}
